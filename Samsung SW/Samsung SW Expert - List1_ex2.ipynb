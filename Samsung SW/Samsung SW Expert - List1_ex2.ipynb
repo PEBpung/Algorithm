{
 "cells": [
  {
   "cell_type": "code",
   "execution_count": 20,
   "metadata": {},
   "outputs": [
    {
     "name": "stdout",
     "output_type": "stream",
     "text": [
      "1\n",
      "3 10 5\n",
      "3 5 7 9\n",
      "#1 3\n"
     ]
    }
   ],
   "source": [
    "T = int(input())\n",
    "\n",
    "for idx in range(1, T+1):\n",
    "    # K: 한번 충전으로 최대한 이동할 수 있는 정류장 수 \n",
    "    # N: 도착해야 되는 종점역\n",
    "    # M: 충전기가 설치된 정류장 개수\n",
    "    K, N, M= map(int, input().split())\n",
    "    # 가능한 거리\n",
    "    Oil = K\n",
    "    \n",
    "    # 버스 정류장\n",
    "    Stop = {}\n",
    "    for mkStop in range(0, N+1):\n",
    "        Stop[mkStop] = 0\n",
    "\n",
    "    # L: 충전기가 설치된 정류장 번호\n",
    "    L = list(map(int, input().split()))\n",
    "    \n",
    "    # 충전소가 있는 버정은 1 없으면 0\n",
    "    for addOil in L:\n",
    "        Stop[addOil] += 1\n",
    "    # 현재위치, 충전횟수, 끝점    \n",
    "    pos = 0\n",
    "    count = 0\n",
    "    end = 0\n",
    "    \n",
    "    while Oil+1 > 0:\n",
    "        need = 0\n",
    "        if pos == N: break\n",
    "            \n",
    "        # 현재 지점에서부터 가능 지점 안에 충전소와 도착지가 있는 지 확인한다.\n",
    "        for W in range(1, Oil+1):\n",
    "            if pos+W >= N: \n",
    "                end = 1\n",
    "                break\n",
    "            elif Stop[pos+W] == 1: break\n",
    "            else: need += 1\n",
    "                \n",
    "        # 가야하는 길이 끝점과 같다면 오일을 충전하지 않고 가도 된다.\n",
    "        if need == Oil and end == 1:\n",
    "            pos += 1\n",
    "            Oil -= 1\n",
    "            \n",
    "        # 가야하는 길이 가능 횟수보다 멀거나 같으면 현재 위치를 조사한다.\n",
    "        elif need >= Oil and end == 0:\n",
    "            # 현재 위치에 충전소가 있으면 충전한다.\n",
    "            if Stop[pos] == 1:\n",
    "                Oil = K\n",
    "                pos += 1\n",
    "                Oil -= 1 \n",
    "                count += 1\n",
    "            # 현재 위치에 충전소가 없다면 0을 출력하고 종료한다.\n",
    "            else: \n",
    "                count = 0\n",
    "                break\n",
    "        # 버스가 움직인다.\n",
    "        else:\n",
    "            pos += 1\n",
    "            Oil -= 1 \n",
    "    print(\"#{} {}\".format(idx,count))\n",
    "    "
   ]
  },
  {
   "cell_type": "code",
   "execution_count": null,
   "metadata": {},
   "outputs": [],
   "source": []
  }
 ],
 "metadata": {
  "kernelspec": {
   "display_name": "aiffel",
   "language": "python",
   "name": "aiffel"
  },
  "language_info": {
   "codemirror_mode": {
    "name": "ipython",
    "version": 3
   },
   "file_extension": ".py",
   "mimetype": "text/x-python",
   "name": "python",
   "nbconvert_exporter": "python",
   "pygments_lexer": "ipython3",
   "version": "3.7.6"
  }
 },
 "nbformat": 4,
 "nbformat_minor": 4
}
