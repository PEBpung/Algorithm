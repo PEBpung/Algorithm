{
 "cells": [
  {
   "cell_type": "code",
   "execution_count": null,
   "metadata": {},
   "outputs": [
    {
     "name": "stdout",
     "output_type": "stream",
     "text": [
      "3\n",
      "3 10 5\n",
      "3 5 7 9\n",
      "#1 3\n"
     ]
    }
   ],
   "source": [
    "T = int(input())\n",
    "\n",
    "for idx in range(1, T+1):\n",
    "    K, N, M= map(int, input().split())\n",
    "    stop_num = list(map(int, input().split()))\n",
    "    \n",
    "    # 현재위치, 충전횟수   \n",
    "    curPos, count = 0, 0\n",
    "    \n",
    "    while (curPos + K) < N:\n",
    "            \n",
    "        # 현재 지점에서부터 가능 지점 안에 충전소가 있는 지 확인한다.\n",
    "        b_range = range(curPos, curPos+K+1)\n",
    "        inter = list(set(b_range) & set(stop_num))\n",
    "\n",
    "        if curPos == max(inter):\n",
    "            count = 0\n",
    "            break\n",
    "        else:\n",
    "            curPos = max(inter)\n",
    "            count += 1\n",
    "\n",
    "    print(\"#{} {}\".format(idx,count))"
   ]
  },
  {
   "cell_type": "code",
   "execution_count": null,
   "metadata": {},
   "outputs": [],
   "source": []
  }
 ],
 "metadata": {
  "kernelspec": {
   "display_name": "aiffel",
   "language": "python",
   "name": "aiffel"
  },
  "language_info": {
   "codemirror_mode": {
    "name": "ipython",
    "version": 3
   },
   "file_extension": ".py",
   "mimetype": "text/x-python",
   "name": "python",
   "nbconvert_exporter": "python",
   "pygments_lexer": "ipython3",
   "version": "3.7.6"
  }
 },
 "nbformat": 4,
 "nbformat_minor": 4
}
