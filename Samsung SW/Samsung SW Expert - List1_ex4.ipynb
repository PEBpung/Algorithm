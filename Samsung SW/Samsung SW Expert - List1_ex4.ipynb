{
 "cells": [
  {
   "cell_type": "markdown",
   "metadata": {},
   "source": [
    "'''\n",
    "3\n",
    "10 3\n",
    "1 2 3 4 5 6 7 8 9 10\n",
    "10 5\n",
    "6262 6004 1801 7660 7919 1280 525 9798 5134 1821 \n",
    "20 19\n",
    "3266 9419 3087 9001 9321 1341 7379 6236 5795 8910 2990 2152 2249 4059 1394 6871 4911 3648 1969 2176\n",
    "'''"
   ]
  },
  {
   "cell_type": "code",
   "execution_count": 18,
   "metadata": {},
   "outputs": [
    {
     "name": "stdout",
     "output_type": "stream",
     "text": [
      "1\n",
      "10 3\n",
      "1 2 3 4 5 6 7 8 9 10\n",
      "#1 21\n"
     ]
    }
   ],
   "source": [
    "T = int(input())\n",
    "\n",
    "for idx in range(1, T+1):\n",
    "    N, M= map(int, input().split())\n",
    "    num = list(map(int, input().split()))\n",
    "    \n",
    "    sum_i = []\n",
    "    \n",
    "    for Y in range(0, N-1):\n",
    "        pos = Y\n",
    "        if Y+M == N+1: break\n",
    "        sum_i.insert(Y, 0)\n",
    "        for L in range(pos, pos+M):\n",
    "            sum_i[Y] += num[L]\n",
    "    \n",
    "    V = max(sum_i)-min(sum_i)\n",
    "    \n",
    "    print(\"#{} {}\".format(idx, V))\n",
    "    "
   ]
  },
  {
   "cell_type": "code",
   "execution_count": null,
   "metadata": {},
   "outputs": [],
   "source": []
  }
 ],
 "metadata": {
  "kernelspec": {
   "display_name": "aiffel",
   "language": "python",
   "name": "aiffel"
  },
  "language_info": {
   "codemirror_mode": {
    "name": "ipython",
    "version": 3
   },
   "file_extension": ".py",
   "mimetype": "text/x-python",
   "name": "python",
   "nbconvert_exporter": "python",
   "pygments_lexer": "ipython3",
   "version": "3.7.6"
  }
 },
 "nbformat": 4,
 "nbformat_minor": 4
}
