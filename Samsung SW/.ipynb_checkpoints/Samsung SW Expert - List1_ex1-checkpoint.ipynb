{
 "cells": [
  {
   "cell_type": "code",
   "execution_count": 7,
   "metadata": {},
   "outputs": [
    {
     "name": "stdout",
     "output_type": "stream",
     "text": [
      "3\n",
      "3\n",
      "1 4 3\n",
      "#1 3\n",
      "3\n",
      "3 4 5\n",
      "#2 2\n",
      "3\n",
      "0 8 4\n",
      "#3 8\n"
     ]
    }
   ],
   "source": [
    "L = int(input())\n",
    "\n",
    "for test in range(1, L+1):\n",
    "    N = int(input())\n",
    "\n",
    "    data = list(map(int, input().split()))\n",
    "\n",
    "    max_num = data[0]\n",
    "    min_num = data[0]\n",
    "\n",
    "    for num in data:\n",
    "        \n",
    "        if max_num < num: max_num = num\n",
    "        if min_num > num: min_num = num\n",
    "\n",
    "    print('#{} {}'.format(test, max_num - min_num))"
   ]
  },
  {
   "cell_type": "code",
   "execution_count": null,
   "metadata": {},
   "outputs": [],
   "source": []
  }
 ],
 "metadata": {
  "kernelspec": {
   "display_name": "Python 3",
   "language": "python",
   "name": "python3"
  },
  "language_info": {
   "codemirror_mode": {
    "name": "ipython",
    "version": 3
   },
   "file_extension": ".py",
   "mimetype": "text/x-python",
   "name": "python",
   "nbconvert_exporter": "python",
   "pygments_lexer": "ipython3",
   "version": "3.7.6"
  }
 },
 "nbformat": 4,
 "nbformat_minor": 4
}
