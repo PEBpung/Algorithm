{
 "cells": [
  {
   "cell_type": "code",
   "execution_count": null,
   "metadata": {},
   "outputs": [],
   "source": [
    "import operator\n",
    "\n",
    "T = int(input())\n",
    "\n",
    "for idx in range(1, T+1):\n",
    "    dic = {0:0, 1: 0, 2: 0, 3: 0, 4: 0, 5: 0, 6: 0, 7: 0, 8: 0, 9: 0}\n",
    "    N = int(input())\n",
    "    \n",
    "    data = list(map(int,input()))\n",
    "    \n",
    "    for num in data:\n",
    "        for n in range(0,10):\n",
    "            if num == n:\n",
    "                dic[num] += 1\n",
    "    sdict = sorted(dic.items(), key=operator.itemgetter(1))\n",
    "    \n",
    "    print(\"#{} {} {}\".format(idx, sdict[len(dic)-1][0], sdict[len(dic)-1][1]))"
   ]
  },
  {
   "cell_type": "code",
   "execution_count": null,
   "metadata": {},
   "outputs": [],
   "source": []
  }
 ],
 "metadata": {
  "kernelspec": {
   "display_name": "Python 3",
   "language": "python",
   "name": "python3"
  },
  "language_info": {
   "codemirror_mode": {
    "name": "ipython",
    "version": 3
   },
   "file_extension": ".py",
   "mimetype": "text/x-python",
   "name": "python",
   "nbconvert_exporter": "python",
   "pygments_lexer": "ipython3",
   "version": "3.7.6"
  }
 },
 "nbformat": 4,
 "nbformat_minor": 4
}
