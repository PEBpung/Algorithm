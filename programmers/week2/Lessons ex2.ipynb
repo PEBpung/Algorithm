{
 "cells": [
  {
   "cell_type": "markdown",
   "metadata": {},
   "source": [
    "입출력 예 #1  \n",
    "\n",
    "인형의 처음 상태는 문제에 주어진 예시와 같습니다. 크레인이 [1, 5, 3, 5, 1, 2, 1, 4] 번 위치에서 차례대로 인형을 집어서 바구니에 옮겨 담은 후, 상태는 아래 그림과 같으며 바구니에 담는 과정에서 터트려져 사라진 인형은 4개 입니다.\n",
    "\n"
   ]
  },
  {
   "cell_type": "code",
   "execution_count": 1,
   "metadata": {},
   "outputs": [],
   "source": [
    "def solution(board, moves):\n",
    "    answer = 0\n",
    "    baguni = []\n",
    "    \n",
    "    for move in moves:\n",
    "        for idx in range(len(board)):\n",
    "            doll = board[idx][move-1]\n",
    "            if doll == 0:\n",
    "                continue\n",
    "            else:\n",
    "                baguni.append(doll)\n",
    "                board[idx][move-1] = 0\n",
    "                break\n",
    "                \n",
    "    def score(baguni):\n",
    "        for i in range(0, len(baguni)-1):\n",
    "            if baguni[i] == baguni[i+1]:\n",
    "                del baguni[i:i+2]\n",
    "                return baguni, 2\n",
    "                break\n",
    "        return baguni, 0\n",
    "    \n",
    "    sc = 0\n",
    "    for j in range(0, int(len(baguni)/2)):\n",
    "        baguni, sc = score(baguni)\n",
    "        answer += sc\n",
    "        \n",
    "    return answer"
   ]
  },
  {
   "cell_type": "code",
   "execution_count": 2,
   "metadata": {},
   "outputs": [
    {
     "data": {
      "text/plain": [
       "4"
      ]
     },
     "execution_count": 2,
     "metadata": {},
     "output_type": "execute_result"
    }
   ],
   "source": [
    "board = [[0,0,0,0,0],[0,0,1,0,3],[0,2,5,0,1],[4,2,4,4,2],[3,5,1,3,1]]\n",
    "moves = [1,5,3,5,1,2,1,4]\n",
    "\n",
    "solution(board, moves)"
   ]
  }
 ],
 "metadata": {
  "kernelspec": {
   "display_name": "aiffel",
   "language": "python",
   "name": "aiffel"
  },
  "language_info": {
   "codemirror_mode": {
    "name": "ipython",
    "version": 3
   },
   "file_extension": ".py",
   "mimetype": "text/x-python",
   "name": "python",
   "nbconvert_exporter": "python",
   "pygments_lexer": "ipython3",
   "version": "3.7.6"
  }
 },
 "nbformat": 4,
 "nbformat_minor": 4
}
