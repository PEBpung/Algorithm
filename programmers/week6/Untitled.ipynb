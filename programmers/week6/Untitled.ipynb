{
 "cells": [
  {
   "cell_type": "code",
   "execution_count": 9,
   "metadata": {
    "ExecuteTime": {
     "end_time": "2020-09-06T17:00:49.824148Z",
     "start_time": "2020-09-06T17:00:49.800238Z"
    }
   },
   "outputs": [],
   "source": [
    "import heapq as hq\n",
    "\n",
    "def heap_sort(unsorted, sorted) :\n",
    "    n = len(unsorted)\n",
    "    hq.heapify(unsorted)\n",
    "\n",
    "    for idx in range(n) :\n",
    "        sorted.append(hq.heappop(unsorted))\n",
    "        hq.heapify(unsorted)\n",
    "    return sorted\n",
    "\n",
    "mem = []\n",
    "import sys \n",
    "num = list(sys.stdin.readline().strip())\n",
    "\n",
    "for cnt, n in enumerate(num):\n",
    "    # 값을 순서대로 받는다.\n",
    "    mem.append(n)\n",
    "    # 지금까지 나온 수를 정렬한다.\n",
    "    mem = heap_sort(mem, [])\n",
    "\n",
    "    # 만약 주어진 수가 짝수라면?\n",
    "    if (cnt+1)%2 == 0:\n",
    "        # 중간값 중에 작은 수를 말한다.\n",
    "        print(min(mem[cnt // 2], mem[cnt//2 +1]))\n",
    "    else:\n",
    "        print(mem[cnt//2])"
   ]
  },
  {
   "cell_type": "code",
   "execution_count": null,
   "metadata": {},
   "outputs": [],
   "source": []
  }
 ],
 "metadata": {
  "kernelspec": {
   "display_name": "Python 3",
   "language": "python",
   "name": "python3"
  },
  "language_info": {
   "codemirror_mode": {
    "name": "ipython",
    "version": 3
   },
   "file_extension": ".py",
   "mimetype": "text/x-python",
   "name": "python",
   "nbconvert_exporter": "python",
   "pygments_lexer": "ipython3",
   "version": "3.7.6"
  },
  "toc": {
   "base_numbering": 1,
   "nav_menu": {},
   "number_sections": true,
   "sideBar": true,
   "skip_h1_title": false,
   "title_cell": "Table of Contents",
   "title_sidebar": "Contents",
   "toc_cell": false,
   "toc_position": {},
   "toc_section_display": true,
   "toc_window_display": false
  },
  "varInspector": {
   "cols": {
    "lenName": 16,
    "lenType": 16,
    "lenVar": 40
   },
   "kernels_config": {
    "python": {
     "delete_cmd_postfix": "",
     "delete_cmd_prefix": "del ",
     "library": "var_list.py",
     "varRefreshCmd": "print(var_dic_list())"
    },
    "r": {
     "delete_cmd_postfix": ") ",
     "delete_cmd_prefix": "rm(",
     "library": "var_list.r",
     "varRefreshCmd": "cat(var_dic_list()) "
    }
   },
   "types_to_exclude": [
    "module",
    "function",
    "builtin_function_or_method",
    "instance",
    "_Feature"
   ],
   "window_display": false
  }
 },
 "nbformat": 4,
 "nbformat_minor": 4
}
